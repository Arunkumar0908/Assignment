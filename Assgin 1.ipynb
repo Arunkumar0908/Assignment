{
 "cells": [
  {
   "cell_type": "code",
   "execution_count": 2,
   "id": "e3177125",
   "metadata": {},
   "outputs": [
    {
     "name": "stdout",
     "output_type": "stream",
     "text": [
      "\n",
      "The basic math operations:\n",
      "Addition: 30.0\n",
      "Subtraction: -10.0\n",
      "Multiplication: 200.0\n",
      "Division: 0.5\n"
     ]
    }
   ],
   "source": [
    "\n",
    "A = float(input(\"Enter the 1st number: \"))\n",
    "B = float(input(\"Enter the 2nd number: \"))\n",
    "\n",
    "def basicOps(a, b):\n",
    "    add = a + b\n",
    "    sub = a - b\n",
    "    mul = a * b\n",
    "    if b != 0:\n",
    "        div = a / b\n",
    "    else:\n",
    "        div = \"Undefined (cannot divide by zero)\"\n",
    "    \n",
    "    print(\"\\nThe basic math operations:\")\n",
    "    print(\"Addition:\", add)\n",
    "    print(\"Subtraction:\", sub)\n",
    "    print(\"Multiplication:\", mul)\n",
    "    print(\"Division:\", div)\n",
    "\n",
    "basicOps(A, B)\n"
   ]
  },
  {
   "cell_type": "code",
   "execution_count": 3,
   "id": "687ec891",
   "metadata": {},
   "outputs": [
    {
     "name": "stdout",
     "output_type": "stream",
     "text": [
      "Hello Jai raj! Welcome to python program\n"
     ]
    }
   ],
   "source": [
    "FN = input(\"Enter the First name : \")\n",
    "LN = input(\"Enter the Second name: \")\n",
    "FLN = FN+\" \"+LN\n",
    "print(\"Hello\"+\" \"+FLN+\"!\"+\" \"+\"Welcome to python program\")"
   ]
  }
 ],
 "metadata": {
  "kernelspec": {
   "display_name": "Python 3",
   "language": "python",
   "name": "python3"
  },
  "language_info": {
   "codemirror_mode": {
    "name": "ipython",
    "version": 3
   },
   "file_extension": ".py",
   "mimetype": "text/x-python",
   "name": "python",
   "nbconvert_exporter": "python",
   "pygments_lexer": "ipython3",
   "version": "3.12.0"
  }
 },
 "nbformat": 4,
 "nbformat_minor": 5
}
