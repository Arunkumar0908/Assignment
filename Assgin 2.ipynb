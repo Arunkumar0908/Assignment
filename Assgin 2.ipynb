{
 "cells": [
  {
   "cell_type": "code",
   "execution_count": 4,
   "id": "4b361a52",
   "metadata": {},
   "outputs": [
    {
     "name": "stdout",
     "output_type": "stream",
     "text": [
      "The given number is odd 5\n"
     ]
    }
   ],
   "source": [
    "A = int(input(\"EnTer the num:\"))\n",
    "\n",
    "if A%2 == 0:\n",
    "    print(\"The given number is Even\",A)\n",
    "else:\n",
    "    print(\"The given number is odd\",A)"
   ]
  },
  {
   "cell_type": "code",
   "execution_count": 11,
   "id": "dc9e9220",
   "metadata": {},
   "outputs": [
    {
     "name": "stdout",
     "output_type": "stream",
     "text": [
      "The sum of integers from 1 to 50 is: 1275\n"
     ]
    }
   ],
   "source": [
    "total_sum = 0\n",
    "for i in range(1, 51):\n",
    "    total_sum += i \n",
    "print(\"The sum of integers from 1 to 50 is:\", total_sum)\n"
   ]
  }
 ],
 "metadata": {
  "kernelspec": {
   "display_name": "Python 3",
   "language": "python",
   "name": "python3"
  },
  "language_info": {
   "codemirror_mode": {
    "name": "ipython",
    "version": 3
   },
   "file_extension": ".py",
   "mimetype": "text/x-python",
   "name": "python",
   "nbconvert_exporter": "python",
   "pygments_lexer": "ipython3",
   "version": "3.12.0"
  }
 },
 "nbformat": 4,
 "nbformat_minor": 5
}
